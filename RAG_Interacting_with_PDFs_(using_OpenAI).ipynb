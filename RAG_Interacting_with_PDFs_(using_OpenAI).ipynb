{
  "cells": [
    {
      "cell_type": "markdown",
      "metadata": {
        "id": "view-in-github",
        "colab_type": "text"
      },
      "source": [
        "<a href=\"https://colab.research.google.com/github/Ubayed-Bin-Sufian/Retrieval-Augmented-Generation_RAG/blob/main/RAG_Interacting_with_PDFs_(using_OpenAI).ipynb\" target=\"_parent\"><img src=\"https://colab.research.google.com/assets/colab-badge.svg\" alt=\"Open In Colab\"/></a>"
      ]
    },
    {
      "cell_type": "markdown",
      "source": [
        "# Set an environment variable for the OpenAI API key (The code is hidden to hide the key)"
      ],
      "metadata": {
        "id": "u_pphFTWDX_v"
      }
    },
    {
      "cell_type": "code",
      "source": [
        "import os\n",
        "print(os.listdir('.'))"
      ],
      "metadata": {
        "id": "ypUp8i2dweK7"
      },
      "execution_count": null,
      "outputs": []
    },
    {
      "cell_type": "code",
      "source": [
        "pip install llama-index"
      ],
      "metadata": {
        "id": "St6spCQkwiSc"
      },
      "execution_count": null,
      "outputs": []
    },
    {
      "cell_type": "code",
      "execution_count": 14,
      "metadata": {
        "id": "lBAKqlE4r1x5"
      },
      "outputs": [],
      "source": [
        "# @title\n",
        "os.environ['OPENAI_API_KEY']= \"Type your OpenAI key here\""
      ]
    },
    {
      "cell_type": "markdown",
      "source": [
        "# Import LLamaindex components and the document used for RAG"
      ],
      "metadata": {
        "id": "ibHjCENEEP_t"
      }
    },
    {
      "cell_type": "code",
      "execution_count": 16,
      "metadata": {
        "id": "UQJuUPMsr1x5"
      },
      "outputs": [],
      "source": [
        "# Import necessary components from the llama_index package\n",
        "from llama_index.core import VectorStoreIndex, SimpleDirectoryReader\n",
        "\n",
        "# Load documents from a directory called 'data'\n",
        "documents=SimpleDirectoryReader(\"data \").load_data()\n"
      ]
    },
    {
      "cell_type": "code",
      "source": [
        "documents"
      ],
      "metadata": {
        "id": "noaoxruGxHtR"
      },
      "execution_count": null,
      "outputs": []
    },
    {
      "cell_type": "markdown",
      "source": [
        "# Create a vector index from the loaded document"
      ],
      "metadata": {
        "id": "vBb2f0X0EYN-"
      }
    },
    {
      "cell_type": "code",
      "execution_count": null,
      "metadata": {
        "id": "2x_lXP5Yr1x6"
      },
      "outputs": [],
      "source": [
        "# Create a vector index from the loaded documents, showing progress as it builds\n",
        "index=VectorStoreIndex.from_documents(documents,show_progress=True)\n",
        "index"
      ]
    },
    {
      "cell_type": "code",
      "source": [
        "index"
      ],
      "metadata": {
        "id": "L9TKTmm8x3wk"
      },
      "execution_count": null,
      "outputs": []
    },
    {
      "cell_type": "markdown",
      "source": [
        "# Convert the vector index to a query engine"
      ],
      "metadata": {
        "id": "DkxyaEzGEmG4"
      }
    },
    {
      "cell_type": "code",
      "execution_count": null,
      "metadata": {
        "id": "s2gWrcAir1x6"
      },
      "outputs": [],
      "source": [
        "# Convert the index into a query engine that can process queries\n",
        "query_engine=index.as_query_engine()"
      ]
    },
    {
      "cell_type": "markdown",
      "source": [
        "# Retriever, query_engine and postprocessor import"
      ],
      "metadata": {
        "id": "YStzPp2MEtGV"
      }
    },
    {
      "cell_type": "code",
      "source": [
        "from llama_index.core.retrievers import VectorIndexRetriever\n",
        "from llama_index.core.query_engine import RetrieverQueryEngine\n",
        "from llama_index.core.indices.postprocessor import SimilarityPostprocessor"
      ],
      "metadata": {
        "id": "AyLFrxn2EsN_"
      },
      "execution_count": 21,
      "outputs": []
    },
    {
      "cell_type": "code",
      "execution_count": null,
      "metadata": {
        "id": "QwZyRqdPr1x6"
      },
      "outputs": [],
      "source": [
        "\n",
        "# Initialize a retriever with the index and specify the top k similar items to retrieve\n",
        "retriever=VectorIndexRetriever(index=index,similarity_top_k=4)\n",
        "\n",
        "# Initialize a postprocessor with a cutoff for similarity; below this value, items are discarded\n",
        "postprocessor=SimilarityPostprocessor(similarity_cutoff=0.50)\n",
        "\n",
        "# Combine the retriever and postprocessor into a query engine\n",
        "query_engine=RetrieverQueryEngine(retriever=retriever,\n",
        "                                  node_postprocessors=[postprocessor])"
      ]
    },
    {
      "cell_type": "markdown",
      "source": [
        "# Our query"
      ],
      "metadata": {
        "id": "PkQ-0fqEE2Gb"
      }
    },
    {
      "cell_type": "code",
      "execution_count": null,
      "metadata": {
        "id": "JCI-6mH6r1x7"
      },
      "outputs": [],
      "source": [
        "# Perform a query to find documents related to the query string\n",
        "response=query_engine.query(\"How many matches did RCB win so far? Which are those matches?\")"
      ]
    },
    {
      "cell_type": "markdown",
      "source": [
        "# Top responses"
      ],
      "metadata": {
        "id": "MQesTd7jE4bS"
      }
    },
    {
      "cell_type": "code",
      "execution_count": null,
      "metadata": {
        "id": "xO2Y8WrQr1x7"
      },
      "outputs": [],
      "source": [
        "# Import utility to pretty print the response and show source documents\n",
        "from llama_index.core.response.pprint_utils import pprint_response\n",
        "\n",
        "# Pretty print the response and show the source of each response part\n",
        "pprint_response(response,show_source=True)\n",
        "\n",
        "# Print the raw response object\n",
        "print(response)"
      ]
    }
  ],
  "metadata": {
    "kernelspec": {
      "display_name": "Python 3 (ipykernel)",
      "language": "python",
      "name": "python3"
    },
    "language_info": {
      "codemirror_mode": {
        "name": "ipython",
        "version": 3
      },
      "file_extension": ".py",
      "mimetype": "text/x-python",
      "name": "python",
      "nbconvert_exporter": "python",
      "pygments_lexer": "ipython3",
      "version": "3.12.2"
    },
    "colab": {
      "provenance": [],
      "include_colab_link": true
    }
  },
  "nbformat": 4,
  "nbformat_minor": 0
}